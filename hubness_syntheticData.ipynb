{
 "cells": [
  {
   "cell_type": "code",
   "execution_count": 1,
   "metadata": {},
   "outputs": [],
   "source": [
    "## 1) Imports and Definitions:"
   ]
  },
  {
   "cell_type": "code",
   "execution_count": 2,
   "metadata": {},
   "outputs": [],
   "source": [
    "%matplotlib inline\n",
    "# import matplotlib\n",
    "# import seaborn as sns\n",
    "# matplotlib.rcParams['savefig.dpi'] = 2 * matplotlib.rcParams['savefig.dpi']\n",
    "from matplotlib import pyplot as plt"
   ]
  },
  {
   "cell_type": "code",
   "execution_count": 3,
   "metadata": {},
   "outputs": [],
   "source": [
    "plt.rcParams['figure.figsize']=[15,10]\n",
    "# for some reason, this only saves if executed in a subsequent cell (vs. import or vs. %mpl inline ???)"
   ]
  },
  {
   "cell_type": "code",
   "execution_count": 17,
   "metadata": {},
   "outputs": [],
   "source": [
    "import numpy as np\n",
    "import pandas as pd\n",
    "from scipy.stats import skew\n",
    "from sklearn.linear_model import LassoCV\n",
    "from sklearn.linear_model import LinearRegression\n",
    "from sklearn import metrics\n",
    "import bottleneck\n",
    "import datetime\n",
    "import time\n",
    "import pickle\n",
    "import os\n",
    "import re\n",
    "versionNumber = 4\n",
    "logfile = 'logfile_%02d.txt' % versionNumber\n",
    "regressionFitInputsCSV = 'rfi_%02d.csv' % versionNumber\n",
    "verDIR = 'v%02d' % versionNumber\n",
    "figDIR = verDIR+'/figs'\n",
    "pickleDIR = verDIR+'/pickles'\n",
    "if not(os.path.isdir(verDIR)):\n",
    "    os.mkdir(verDIR)\n",
    "    os.mkdir(figDIR)\n",
    "    os.mkdir(figDIR+'/hubDist')\n",
    "    os.mkdir(figDIR+'/Hubness_vs_R')\n",
    "    os.mkdir(pickleDIR)"
   ]
  },
  {
   "cell_type": "code",
   "execution_count": 5,
   "metadata": {},
   "outputs": [],
   "source": [
    "def makeTimeString():\n",
    "    # produces a string yyyymmdd@HHMM of the current system clock time\n",
    "    nowtime = datetime.datetime.now()\n",
    "    return str(int(nowtime.year*1e4+nowtime.month*1e2+nowtime.day))+'@'+str(int(nowtime.hour*1e2+nowtime.minute))"
   ]
  },
  {
   "cell_type": "code",
   "execution_count": 6,
   "metadata": {},
   "outputs": [
    {
     "data": {
      "text/plain": [
       "'20190717@2244'"
      ]
     },
     "execution_count": 6,
     "metadata": {},
     "output_type": "execute_result"
    }
   ],
   "source": [
    "makeTimeString()"
   ]
  },
  {
   "cell_type": "code",
   "execution_count": 7,
   "metadata": {},
   "outputs": [],
   "source": [
    "def getDistanceMatrix(L_v,ord=2):\n",
    "    # input:    numpy array of vectors (N vectors, each of dim d: matrix is N*d)\n",
    "                    # ord = which L-norm to use for pairwise distance computation. default 2\n",
    "    # output:   N*N matrix of distances between each pair of vectors\n",
    "            # only N*(N-1)/2 useful entries, due to symmetry. Output matrix diagonal is all zeros.\n",
    "    n0 = len(L_v)\n",
    "    distMatrix = np.zeros((n0,n0))\n",
    "    for dex1 in range(n0-1):\n",
    "        dist_to_i_d = L_v[(1+dex1):] - L_v[dex1]\n",
    "        vectorNorms = np.linalg.norm(dist_to_i_d,ord=ord,axis=1)\n",
    "        distMatrix[dex1,(1+dex1):] = vectorNorms\n",
    "        distMatrix[(1+dex1):,dex1] = vectorNorms\n",
    "    return distMatrix"
   ]
  },
  {
   "cell_type": "code",
   "execution_count": 8,
   "metadata": {},
   "outputs": [
    {
     "data": {
      "text/plain": [
       "'1.2.1'"
      ]
     },
     "execution_count": 8,
     "metadata": {},
     "output_type": "execute_result"
    }
   ],
   "source": [
    "bottleneck.__version__"
   ]
  },
  {
   "cell_type": "code",
   "execution_count": 9,
   "metadata": {},
   "outputs": [],
   "source": [
    "def findNeighbors(L_v,k,ord_LNorm=2):\n",
    "    # input:\n",
    "        # L_v:         list of vectors in (N*d) matrix: N vectors, each with d dimensions\n",
    "        # k:           number of nearest neighbors to find\n",
    "        # ord_LNorm:   which order of L-norm to use for distance computation between each pair of vectors. Default=2\n",
    "    # output:          N*(k+1) integer matrix. \n",
    "            # Each row i lists the indices of the (k+1) vectors that are nearest neighbors of vec L_v[i]\n",
    "            # why (k+1)?\n",
    "                # because each point always returns itself as its own single nearest neighbor \n",
    "                # since I will simply count total appearances for hubness, I can easily subtract one from each point later.\n",
    "                # Will this cause any errors (e.g. if data were to contain identical points)?\n",
    "                        # No, b/c it's prohibitively unlikely, especially for large d, float data, large k, etc.\n",
    "    # This function is really easy to execute with bottleneck.argpartition\n",
    "    N = len(L_v)\n",
    "    distMatrix = getDistanceMatrix(L_v,ord_LNorm)\n",
    "    k = min(k,N-1)\n",
    "    neighbors = bottleneck.argpartition(distMatrix,k+1,axis=1)[:,:(k+1)]\n",
    "            # Used argpartsort previously. That function no longer exists in bottleneck 1.2. Don't need to sort results anyway\n",
    "    return [neighbors,distMatrix]"
   ]
  },
  {
   "cell_type": "code",
   "execution_count": 10,
   "metadata": {},
   "outputs": [],
   "source": [
    "def findNeighbors_givenDists(distMatrix,k):\n",
    "    # inputs:\n",
    "        # N*N distance matrix\n",
    "        # k: number of nearest neighbors to find\n",
    "    # output: N*(k+1) integer matrix.  shows the k+1 nearest neighbors of each point (each row includes itself as a neighbor)\n",
    "    N = len(distMatrix)\n",
    "    k = min(k,N-1)\n",
    "    neighbors = bottleneck.argpartition(distMatrix,k+1,axis=1)[:,:(k+1)]\n",
    "    return neighbors"
   ]
  },
  {
   "cell_type": "code",
   "execution_count": 11,
   "metadata": {},
   "outputs": [],
   "source": [
    "def plotHubnessDistribution(hist_hubness,d,k,n,filenameSuffix):\n",
    "    fig = plt.figure()\n",
    "    ax = fig.add_subplot(111)\n",
    "    fig.subplots_adjust(top=0.85)\n",
    "    ax.set_title('Hubness Distribution: (d,k,n) = (%d, %d, %d)' % (d,k,n))\n",
    "    ax.set_ylabel(\"Occurrence Frequency\")\n",
    "    #ax.set_ylim([0,1])\n",
    "    if (d>29):\n",
    "        ax.set_xlabel('N_k + 1')\n",
    "        plt.plot(1+np.arange(len(hist_hubness)),hist_hubness/float(n),'o')\n",
    "        ax.set_xscale('log')\n",
    "        ax.set_yscale('log')\n",
    "    else:\n",
    "        ax.set_xlabel('N_k')\n",
    "        plt.plot(hist_hubness/float(n))\n",
    "    plt.savefig((figDIR+'/hubDist/hubnessDist_%s') % filenameSuffix)\n",
    "    plt.close(fig)"
   ]
  },
  {
   "cell_type": "code",
   "execution_count": 13,
   "metadata": {},
   "outputs": [],
   "source": [
    "def plot_Hubness_vs_R(hubness,R,d,k,n,filenameSuffix):\n",
    "    # scatterplot: hubness vs. distance from origin\n",
    "    fig = plt.figure()\n",
    "    ax = fig.add_subplot(111)\n",
    "    fig.subplots_adjust(top=0.85)\n",
    "    ax.set_title('Hubness vs R: (d,k,n) = (%d, %d, %d)' % (d,k,n))\n",
    "    ax.set_xlabel('R (distance from origin)')\n",
    "    if (d>29):\n",
    "        ax.set_ylabel(\"Log10(Hubness+1)\")\n",
    "        plt.plot(R,np.log10(hubness+1),'o')\n",
    "    else:\n",
    "        ax.set_ylabel(\"Hubness\")\n",
    "        plt.plot(R,hubness,'o')\n",
    "    plt.savefig((figDIR+'/Hubness_vs_R/HvR_%s') % filenameSuffix)\n",
    "    plt.close(fig)"
   ]
  },
  {
   "cell_type": "code",
   "execution_count": null,
   "metadata": {},
   "outputs": [],
   "source": []
  },
  {
   "cell_type": "code",
   "execution_count": 22,
   "metadata": {},
   "outputs": [
    {
     "name": "stdout",
     "output_type": "stream",
     "text": [
      "46\n"
     ]
    }
   ],
   "source": [
    "print('%.0f' % 45.7)"
   ]
  },
  {
   "cell_type": "code",
   "execution_count": null,
   "metadata": {},
   "outputs": [],
   "source": [
    "## 2) Data Generation, Nearest-Neighbor, and Hubness Computations"
   ]
  },
  {
   "cell_type": "code",
   "execution_count": null,
   "metadata": {
    "scrolled": true
   },
   "outputs": [],
   "source": [
    "# %time (neighbors,dists)=findNeighbors(X,k,ord_LNorm=2)\n",
    "    # I think the distMatrix computation is the biggest factor here: should be O(n2 * d)\n",
    "    # I see no execution time dependence on k\n",
    "        # so argpartsort (which should go as n log k, assuming it's done with a heap?) is presumably much faster"
   ]
  },
  {
   "cell_type": "code",
   "execution_count": null,
   "metadata": {},
   "outputs": [],
   "source": [
    "# Execute the following cell with a variety of values for d, k, and n\n",
    "\n",
    "# d = dimensionality of space\n",
    "# k = number of neighbors\n",
    "# n = number of points"
   ]
  },
  {
   "cell_type": "code",
   "execution_count": 24,
   "metadata": {},
   "outputs": [
    {
     "name": "stdout",
     "output_type": "stream",
     "text": [
      "d = 200000\n",
      "00 0.0\n",
      "01 1050.3\n",
      "02 2097.9\n",
      "03 3147.0\n",
      "04 4194.4\n",
      "05 5243.7\n",
      "06 6289.7\n",
      "07 7339.7\n",
      "08 8388.7\n",
      "09 9436.6\n",
      "10 10487.5\n",
      "11 11534.9\n",
      "12 12583.8\n",
      "13 13633.8\n",
      "14 14681.8\n",
      "15 15732.3\n",
      "16 16781.8\n",
      "17 17832.9\n",
      "18 18881.2\n",
      "19 19928.8\n",
      "20 20975.9\n",
      "21 22027.6\n",
      "22 23071.5\n",
      "23 24120.1\n",
      "24 25168.5\n",
      "Loop execution time: 26222.909 sec\n"
     ]
    }
   ],
   "source": [
    "dList=[1,2,3,5,10,20,30,50,100,200,300,500,1000,2000,3000,5000]\n",
    "k=10\n",
    "n=1000\n",
    "with open(logfile,\"a\") as fh:\n",
    "    for d in dList:\n",
    "        print('d = %d' % d)\n",
    "        ticD = time.time()\n",
    "        fh.write(\"d=%d\\n\" % d)\n",
    "        fh.write(\"k=%d\\n\" % k)\n",
    "        fh.write(\"n=%d\\n\" % n)\n",
    "        for _ in range(25): # draw 25 independent sample datasets for each (d,k,n)\n",
    "            fh.write(\"set %d\\n\" % _)\n",
    "            tic=time.time()\n",
    "            print('%02d %.1f' % (_,tic-ticD))\n",
    "            mySeed = (int(tic*(10**6))) % (2**32)\n",
    "            np.random.seed(mySeed)\n",
    "                # ok this does limit numPossibleDatasets to 2**32 (cf. Mersenne Twister = 2**19937 - 1)\n",
    "                    # but a collision is still extremely unlikely, and it really doesn't matter that much anyway\n",
    "            fh.write(\"    seed = %d\" % mySeed) # if we wish to reproduce any pointCloud later, can read a seed from log file\n",
    "            X = np.random.normal(0,1,(n,d))\n",
    "            #(neighbors,dists)=findNeighbors(X,k,ord_LNorm=2)  # this was the slow step, others all fast\n",
    "            # For some reason it runs faster when computing distances separately\n",
    "            # Okay, we'll replace that with separate explicit calls. (Why is this faster???) \n",
    "            # Also let's get both k and k+1 NN lists. Useful for determining the distance to the (k+1)th point\n",
    "            dists = getDistanceMatrix(X,ord=2)                      # O(d * n**2)    This is the slow step! \n",
    "            neighbors = findNeighbors_givenDists(dists,k)           # O(n**2)\n",
    "            neighbors_kp1 = findNeighbors_givenDists(dists,k+1)     # O(n**2)\n",
    "            vecNeighbors = np.reshape(neighbors,n*(k+1))\n",
    "            hubness = np.bincount(vecNeighbors)-1   # minus 1 removes self as nearest neighbor\n",
    "            hist_hubness = np.bincount(hubness)\n",
    "            #skewness = (sum((hubness-k)**3)/float(n))/((np.std(hubness))**3)  # mean(hubness) = k\n",
    "            #print(skewness)\n",
    "            skewHub = skew(hubness)\n",
    "            fh.write(\"    skewness = %f\\n\" % skewHub) # skewness of the hubness\n",
    "            R = np.linalg.norm(X,ord=2,axis=1)  # distance from origin to each point\n",
    "            fnSuf1 = '_d%04d_k%03d_n%05d_#%02d' % (d,k,n,_)\n",
    "            filenameSuffix = '_d%04d_k%03d_n%05d_#%02d_%s.png' % (d,k,n,_,makeTimeString())\n",
    "            plotHubnessDistribution(hist_hubness,d,k,n,filenameSuffix)\n",
    "            plot_Hubness_vs_R(hubness,R,d,k,n,filenameSuffix)\n",
    "            pickle.dump(hubness,open((pickleDIR+'/hubness%s.p') % fnSuf1,'wb'))\n",
    "            pickle.dump(R,open((pickleDIR+'/R%s.p') % fnSuf1,'wb'))\n",
    "            pickle.dump(neighbors,open((pickleDIR+'/neighbors%d_%s.p') % (k,fnSuf1),'wb'))\n",
    "            pickle.dump(neighbors_kp1,open((pickleDIR+'/neighbors%d_%s.p') % (k+1,fnSuf1),'wb'))\n",
    "            toc=time.time()\n",
    "            fh.write(\"    Execution Time: %.2f s\\n\" % (toc-tic))\n",
    "        fh.write(\"\\n\\n\\n\")\n",
    "        print('Loop execution time: %.3f sec' % (time.time()-ticD))"
   ]
  },
  {
   "cell_type": "code",
   "execution_count": null,
   "metadata": {},
   "outputs": [],
   "source": []
  },
  {
   "cell_type": "code",
   "execution_count": null,
   "metadata": {},
   "outputs": [],
   "source": [
    "## 3) Read Data from all Pickles, write to CSV: "
   ]
  },
  {
   "cell_type": "code",
   "execution_count": 14,
   "metadata": {},
   "outputs": [],
   "source": [
    "pattern = re.compile('^hubness_d(\\d+)_k010_n(\\d+)_#(\\d+)\\.p$')  # combos (d,n,#) where k=10\n",
    "numHubnesses2Pull = 10  # find fraction of data set that has each hubness value less than this number\n",
    "with open(regressionFitInputsCSV,\"w\") as fh:\n",
    "    fracHeaders = ','.join(['f'+str(x) for x in range(numHubnesses2Pull)])\n",
    "    fh.write(\"d,n,itno,%s\\n\" % fracHeaders)\n",
    "    for file in os.listdir('v3/pickles'):\n",
    "        key = pattern.findall(file)\n",
    "        if key:\n",
    "            (d,n,itno) = [int(x) for x in key[0]]\n",
    "            with open('v3/pickles/'+file,'rb') as myfile:\n",
    "                hubness=pickle.load(myfile)\n",
    "            #hubness = pickle.load(open('v2/pickles/'+file,'rb'))\n",
    "            fracs = [np.count_nonzero(hubness==Nk)/float(n) for Nk in range(numHubnesses2Pull)]\n",
    "            stringFracs = ','.join([str(ff) for ff in fracs])\n",
    "            fh.write(\"%d,%d,%d,%s\\n\" % (d,n,itno,stringFracs))"
   ]
  },
  {
   "cell_type": "code",
   "execution_count": null,
   "metadata": {},
   "outputs": [],
   "source": []
  },
  {
   "cell_type": "code",
   "execution_count": null,
   "metadata": {},
   "outputs": [],
   "source": []
  },
  {
   "cell_type": "code",
   "execution_count": null,
   "metadata": {},
   "outputs": [],
   "source": [
    "## 4) Fit Lasso Linear Regression Model, to predict d from n\n"
   ]
  },
  {
   "cell_type": "code",
   "execution_count": 21,
   "metadata": {},
   "outputs": [],
   "source": [
    "data = pd.read_csv('rfi.csv')\n",
    "predictors = pd.DataFrame(np.log10(data['n'])).rename(columns={\"n\": \"logN\"})\n",
    "for jj in range(2):\n",
    "    predictors['f'+str(jj)] = data['f'+str(jj)]  # we will only use the first two hubnesses\n",
    "        # i.e. (what fraction of points are no-one else's nearest neighbor, what frac of pts are only NN for one other pt)\n",
    "\n",
    "        \n",
    "#for jj in range(10):\n",
    "#    predictors['fs'+str(jj)] = (predictors['f'+str(jj)])**2\n",
    "#predictors['logN'] = np.log10(data['n'])\n",
    "# predictors['logN_sq'] = (np.log10(data['n']))**2\n",
    "\n"
   ]
  },
  {
   "cell_type": "code",
   "execution_count": 29,
   "metadata": {},
   "outputs": [],
   "source": [
    "Y = np.log10(data['d'])  # we will try to predict the dimension 'd'\n",
    "                                    # predictors: logN and the two hubness fractions f0 and f1"
   ]
  },
  {
   "cell_type": "code",
   "execution_count": 44,
   "metadata": {},
   "outputs": [
    {
     "data": {
      "image/png": "[encoded data removed]",
      "text/plain": [
       "<Figure size 1080x720 with 16 Axes>"
      ]
     },
     "metadata": {
      "needs_background": "light"
     },
     "output_type": "display_data"
    }
   ],
   "source": [
    "# Pairwise feature scatterplot (cf. R's \"pairs\" function)\n",
    "# Very useful way to visualize relationships between variables!\n",
    "axes = pd.plotting.scatter_matrix(pd.concat([Y,predictors],axis=1), alpha=0.2)\n",
    "plt.tight_layout()"
   ]
  },
  {
   "cell_type": "code",
   "execution_count": 46,
   "metadata": {},
   "outputs": [
    {
     "data": {
      "text/plain": [
       "array([-0.37177363,  5.67842116, -9.42813388])"
      ]
     },
     "execution_count": 46,
     "metadata": {},
     "output_type": "execute_result"
    }
   ],
   "source": [
    "model.coef_"
   ]
  },
  {
   "cell_type": "code",
   "execution_count": null,
   "metadata": {},
   "outputs": [],
   "source": [
    "# f0:\n",
    "    # f0 is obviously going to be the most important predictor.\n",
    "    # The variables log d and f0 have strong positive correlation, as expected.\n",
    "        # high d: hubness is concentrated in a very small number of hubs. Lots of other points are left with zero hubness.\n",
    "        \n",
    "# f1:\n",
    "    # d has an interesting relationship with f1\n",
    "        # but f1 might not be an especially useful predictor\n",
    "            # the d-vs-f1 relationship is likely captured by the d-vs-f0 and f1-vs-f0 relationships\n",
    "    # Phenomenology here:\n",
    "        # For small d, f0 and f1 are both fairly small.\n",
    "            # No concentration into big hubs: therefore, the number of points with zero or one hubness is also small\n",
    "            # Interesting that even for d=30 (the smallest choice used for regression fit in Dec'17): f0 still exceeds f1\n",
    "                # I expect that will change as d drops even further\n",
    "                    # Consider the d=1 case: a univariate normal distribution.\n",
    "                        # There could only be 1-2 extreme outliers so far from the distribution as to have zero hubness\n",
    "                        # Here I think f10 would be a peak \n",
    "        # For huge d, f1 decreases again, b/c f0 is capturing a higher and higher fraction of the overall points\n",
    "            # I presume that f1 would still be increasing relative to (1-f0) ???\n",
    "            \n",
    "# log N:\n",
    "    # in theory, this shouldn't be related to d at all\n",
    "        # first of all, they were both initially chosen for our simulations! so any relationship here is meaningless\n",
    "            # recall that f0 and f1 are the results of the calculations\n",
    "                # although we will be treating them as the independent variables for regression model\n",
    "        # the research idea is eventually to measure f0/f1/etc. to predict the \"effective dimension\" of a real dataset"
   ]
  },
  {
   "cell_type": "code",
   "execution_count": 24,
   "metadata": {},
   "outputs": [],
   "source": [
    "model = LassoCV(cv=len(predictors),eps=1e-3,max_iter=1000)  # LOO CV\n",
    "model.fit(predictors,Y)\n",
    "Y_obs = Y\n",
    "Y_pred = pd.Series(model.predict(predictors))"
   ]
  },
  {
   "cell_type": "code",
   "execution_count": 25,
   "metadata": {},
   "outputs": [
    {
     "data": {
      "text/plain": [
       "LassoCV(alphas=None, copy_X=True, cv=257, eps=0.001, fit_intercept=True,\n",
       "        max_iter=1000, n_alphas=100, n_jobs=None, normalize=False,\n",
       "        positive=False, precompute='auto', random_state=None,\n",
       "        selection='cyclic', tol=0.0001, verbose=False)"
      ]
     },
     "execution_count": 25,
     "metadata": {},
     "output_type": "execute_result"
    }
   ],
   "source": [
    "model"
   ]
  },
  {
   "cell_type": "code",
   "execution_count": 33,
   "metadata": {},
   "outputs": [
    {
     "data": {
      "text/plain": [
       "array([-0.37177363,  5.67842116, -9.42813388])"
      ]
     },
     "execution_count": 33,
     "metadata": {},
     "output_type": "execute_result"
    }
   ],
   "source": [
    "model.coef_"
   ]
  },
  {
   "cell_type": "code",
   "execution_count": null,
   "metadata": {},
   "outputs": [],
   "source": [
    "fig = plt.figure()\n",
    "ax = fig.add_subplot(111)\n",
    "fig.subplots_adjust(top=0.85)\n",
    "ax.set_title('Lasso Linear Regression Fit')\n",
    "ax.set_ylabel(\"Observed Dimension\")\n",
    "ax.set_xlabel(\"Predicted Dimension\")\n",
    "plt.plot(Y_pred,Y_obs,'ko',markersize=4)\n",
    "plt.plot(Y_pred[predictors['logN']==np.log10(10000)],Y_obs[predictors['logN']==np.log10(10000)],'ro',markersize=4)\n",
    "plt.plot([1,3.5],[1,3.5],'k')"
   ]
  },
  {
   "cell_type": "code",
   "execution_count": null,
   "metadata": {},
   "outputs": [],
   "source": [
    "metrics.r2_score(Y_obs,Y_pred)"
   ]
  },
  {
   "cell_type": "code",
   "execution_count": null,
   "metadata": {},
   "outputs": [],
   "source": [
    "print(model.predict(np.array([[0,0,0],[1,0,0],[0,1,0],[0,0,1]])))\n",
    "print(model.predict(np.array([[1,0,0],[0,1,0],[0,0,1]]))-model.predict(np.array([[0,0,0]])))"
   ]
  },
  {
   "cell_type": "code",
   "execution_count": null,
   "metadata": {},
   "outputs": [],
   "source": [
    "pickle.dump(model,open('lassoRegressionModel.p','wb'))"
   ]
  },
  {
   "cell_type": "code",
   "execution_count": null,
   "metadata": {},
   "outputs": [],
   "source": []
  },
  {
   "cell_type": "code",
   "execution_count": null,
   "metadata": {},
   "outputs": [],
   "source": []
  },
  {
   "cell_type": "code",
   "execution_count": null,
   "metadata": {},
   "outputs": [],
   "source": [
    "## 4b) Skewness vs d"
   ]
  },
  {
   "cell_type": "code",
   "execution_count": null,
   "metadata": {},
   "outputs": [],
   "source": [
    "ds = pd.read_csv('rfiSkew.csv')"
   ]
  },
  {
   "cell_type": "code",
   "execution_count": null,
   "metadata": {},
   "outputs": [],
   "source": [
    "fig = plt.figure()\n",
    "ax = fig.add_subplot(111)\n",
    "plt.plot(ds['d'],ds['skewness'],'ko')\n",
    "#plt.plot(ds.ix[ds['n']==10000,'d'],ds.ix[ds['n']==10000,'skewness'],'ro')\n",
    "#plt.plot(ds.ix[ds['n']==30000,'d'],ds.ix[ds['n']==30000,'skewness'],'go')\n",
    "ax.set_xscale('log')\n",
    "ax.set_yscale('log')\n",
    "ax.set_title('Skewness of Hubness: Normal Distribution')\n",
    "ax.set_xlabel('d')\n",
    "ax.set_ylabel('skewness of N_10')\n",
    "fig.savefig('SOH_vs_d')"
   ]
  },
  {
   "cell_type": "code",
   "execution_count": null,
   "metadata": {},
   "outputs": [],
   "source": []
  },
  {
   "cell_type": "code",
   "execution_count": null,
   "metadata": {},
   "outputs": [],
   "source": [
    "# 4c) Deep Dive: Investigate run 8 from d=500,n=30000, since it had such high skewness (75):"
   ]
  },
  {
   "cell_type": "code",
   "execution_count": null,
   "metadata": {},
   "outputs": [],
   "source": [
    "d=500\n",
    "k=10\n",
    "n=30000\n",
    "runNumber = 8\n",
    "r8_string = ('_d' + '%04d' + '_k' + '%03d' + '_n' + '%05d' + '_#' + '%d') % (d,k,n,runNumber)\n",
    "hubness = pickle.load(open('v2/pickles/hubness' + r8_string + '.p','r'))\n",
    "neighbors10 = pickle.load(open('v2/pickles/neighbors10_' + r8_string + '.p','r'))\n",
    "neighbors11 = pickle.load(open('v2/pickles/neighbors11_' + r8_string + '.p','r'))\n",
    "R = pickle.load(open('v2/pickles/R' + r8_string + '.p','r'))\n",
    "inlier = np.where(hubness==max(hubness))[0]"
   ]
  },
  {
   "cell_type": "code",
   "execution_count": null,
   "metadata": {},
   "outputs": [],
   "source": [
    "R2_inlier = R[inlier]**2"
   ]
  },
  {
   "cell_type": "code",
   "execution_count": null,
   "metadata": {},
   "outputs": [],
   "source": [
    "from scipy.stats import chi2\n",
    "dof=d\n",
    "p1 = chi2.cdf(R2_inlier,df=500)\n",
    "total_points_generated_at_d_eq_500 = 6e5\n",
    "total_points_entire_data_set = 5960000\n",
    "pn = 1 - (1-p1)**n\n",
    "pTot = 1 - (1-p1)**total_points_generated_at_d_eq_500\n",
    "pEntire = 1 - (1-p1)**total_points_entire_data_set\n",
    "print(p1)\n",
    "print(pn)\n",
    "print(pTot)\n",
    "print(pEntire)"
   ]
  },
  {
   "cell_type": "code",
   "execution_count": null,
   "metadata": {},
   "outputs": [],
   "source": [
    "1./n * ((hubness[inlier]-k)**3)/(hubness.std()**3)\n",
    "# This is the amount contributed to the skewness by the one term.\n",
    "# It would be misleading to subtract it and imply that the skewness of the rest of the set is just 3.5\n",
    "    # because removing one hub changes all the other NN lists, etc.\n",
    "        # still however, it does illustrate how much a single inlier can dominate the skewness result"
   ]
  },
  {
   "cell_type": "code",
   "execution_count": null,
   "metadata": {},
   "outputs": [],
   "source": [
    "# But having saved the 10-nearest-neighbor and 11-nearest-neighbor lists,\n",
    "    # I can in fact generate a new array of hubnesses N_10, assuming that the extreme inlier is removed!\n",
    "\n",
    "neighbors = np.int64(np.zeros([n,k+1]))\n",
    "for jj in range(n):\n",
    "    if (inlier in neighbors10[jj]):\n",
    "        neighbors[jj,:] = np.delete(neighbors11[jj], np.where(neighbors11[jj] == inlier), axis=0)\n",
    "    else:\n",
    "        neighbors[jj,:] = neighbors10[jj]\n",
    "neighbors[inlier] = neighbors[-1] # overwrite row corresponding to original inlier\n",
    "neighbors = neighbors[:-1] # remove last row (which is now a duplicate)\n",
    "np.place(neighbors,neighbors==len(neighbors),inlier) # re-indexes the old endpoint to the inlier's index\n",
    "vecNeighbors = np.reshape(neighbors,(n-1)*(k+1))\n",
    "newHubness = np.bincount(vecNeighbors)-1\n",
    "print(skew(newHubness))"
   ]
  },
  {
   "cell_type": "code",
   "execution_count": null,
   "metadata": {},
   "outputs": [],
   "source": []
  },
  {
   "cell_type": "code",
   "execution_count": null,
   "metadata": {},
   "outputs": [],
   "source": []
  },
  {
   "cell_type": "code",
   "execution_count": null,
   "metadata": {},
   "outputs": [],
   "source": [
    "## 5) Linear Regression on logN, f0, and f1\n",
    "\n",
    "# Actually Lasso uses just three parameters: logN, f0, and f1.\n",
    "        # So as an alternative, we could also try a standard linear regression on just these three parameters"
   ]
  },
  {
   "cell_type": "code",
   "execution_count": null,
   "metadata": {},
   "outputs": [],
   "source": [
    "data = pd.read_csv('rfi.csv')\n",
    "predictors = pd.DataFrame(np.log10(data['n'])).rename(columns={\"n\": \"logN\"})\n",
    "for jj in range(2):\n",
    "    predictors['f'+str(jj)] = (data.ix[:,['f'+str(jj)]])\n",
    "#for jj in range(10):\n",
    "#    predictors['fs'+str(jj)] = (predictors['f'+str(jj)])**2\n",
    "#predictors['logN'] = np.log10(data['n'])\n",
    "# predictors['logN_sq'] = (np.log10(data['n']))**2\n",
    "Y = np.log10(data['d'])\n"
   ]
  },
  {
   "cell_type": "code",
   "execution_count": null,
   "metadata": {},
   "outputs": [],
   "source": [
    "predictors.head()"
   ]
  },
  {
   "cell_type": "code",
   "execution_count": null,
   "metadata": {},
   "outputs": [],
   "source": [
    "linreg_model = LinearRegression()\n",
    "linreg_model.fit(predictors,Y)\n",
    "Y_obs = Y\n",
    "Y_pred = pd.Series(linreg_model.predict(predictors))"
   ]
  },
  {
   "cell_type": "code",
   "execution_count": null,
   "metadata": {},
   "outputs": [],
   "source": [
    "linreg_model"
   ]
  },
  {
   "cell_type": "code",
   "execution_count": null,
   "metadata": {},
   "outputs": [],
   "source": []
  }
 ],
 "metadata": {
  "anaconda-cloud": {},
  "kernelspec": {
   "display_name": "Python 3",
   "language": "python",
   "name": "python3"
  },
  "language_info": {
   "codemirror_mode": {
    "name": "ipython",
    "version": 3
   },
   "file_extension": ".py",
   "mimetype": "text/x-python",
   "name": "python",
   "nbconvert_exporter": "python",
   "pygments_lexer": "ipython3",
   "version": "3.7.3"
  }
 },
 "nbformat": 4,
 "nbformat_minor": 1
}
